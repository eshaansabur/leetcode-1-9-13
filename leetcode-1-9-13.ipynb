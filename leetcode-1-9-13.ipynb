{
 "cells": [
  {
   "cell_type": "code",
   "execution_count": 8,
   "id": "c1334213-75bb-4cc1-ad5d-8b83463527d7",
   "metadata": {},
   "outputs": [
    {
     "name": "stdout",
     "output_type": "stream",
     "text": [
      "<class 'list'>\n",
      "['eat', 'sleep', 'repeat']\n",
      "<enumerate object at 0x000001E48794A250>\n",
      "[(0, 'eat'), (1, 'sleep'), (2, 'repeat')]\n",
      "(0, 'eat')\n",
      "(1, 'sleep')\n",
      "(2, 'repeat')\n",
      "0\n",
      "eat\n",
      "1\n",
      "sleep\n",
      "2\n",
      "repeat\n"
     ]
    }
   ],
   "source": [
    "l1 = [\"eat\", \"sleep\", \"repeat\"]\n",
    "obj1= enumerate(l1)\n",
    "print(type(l1))\n",
    "print(l1)\n",
    "#print(type(obj1))\n",
    "print(obj1)\n",
    "print(list(obj1))\n",
    "for l in enumerate(l1):\n",
    "    print(l)\n",
    "for count, l in enumerate(l1):\n",
    "    print(count)\n",
    "    print(l)"
   ]
  },
  {
   "cell_type": "code",
   "execution_count": 42,
   "id": "909f6090-26e8-4116-9d56-a6e5c40a42ad",
   "metadata": {},
   "outputs": [],
   "source": [
    "def addTwo(nums, target):\n",
    "    n = len(nums) \n",
    "    for i in range(n):\n",
    "        for j in range(i + 1, n):\n",
    "            if nums[i] + nums[j] == target:\n",
    "                return [i, j]\n",
    "    return []  # No solution found"
   ]
  },
  {
   "cell_type": "code",
   "execution_count": 43,
   "id": "957478cb-3813-4a8e-938e-0582efea16f4",
   "metadata": {},
   "outputs": [
    {
     "name": "stdout",
     "output_type": "stream",
     "text": [
      "[]\n"
     ]
    }
   ],
   "source": [
    "nums= [3,2,4]\n",
    "target= 6\n",
    "print(addTwo(nums, target))"
   ]
  },
  {
   "cell_type": "code",
   "execution_count": 54,
   "id": "d40d7772-897c-4083-8b94-a6129e1df57d",
   "metadata": {},
   "outputs": [],
   "source": [
    "def isPalindrome(x):\n",
    "    strInput = str(x)\n",
    "    strReverse= strInput[::-1]\n",
    "    if strInput== strReverse:\n",
    "        return True\n",
    "    else:\n",
    "        return False"
   ]
  },
  {
   "cell_type": "code",
   "execution_count": 56,
   "id": "1505e3be-38b7-4bdf-9602-1d5edf6a8fb2",
   "metadata": {},
   "outputs": [
    {
     "data": {
      "text/plain": [
       "False"
      ]
     },
     "execution_count": 56,
     "metadata": {},
     "output_type": "execute_result"
    }
   ],
   "source": [
    "isPalindrome(-101)"
   ]
  },
  {
   "cell_type": "code",
   "execution_count": 71,
   "id": "ce00b391-c106-4502-8093-e0a8a131568c",
   "metadata": {},
   "outputs": [],
   "source": [
    "def returnToInt(s):\n",
    "    dict= {'I': 1, 'V': 5, 'X': 10, 'L': 50, 'C': 100, 'D': 500, 'M': 1000}\n",
    "    number =s\n",
    "    count=0\n",
    "    number= number.replace(\"IV\", \"IIII\")\n",
    "    number= number.replace(\"IX\", \"VIIII\")\n",
    "    number= number.replace(\"XL\", \"XXXX\")\n",
    "    number= number.replace(\"XC\", \"LXXXX\")\n",
    "    number= number.replace(\"CD\", \"CCCC\")\n",
    "    number= number.replace(\"CM\", \"DCCCC\")\n",
    "    numberList= list(number)\n",
    "    #print(number)\n",
    "    for i in numberList:\n",
    "        #print(i)\n",
    "        for key, value in dict.items():\n",
    "            #print(key, value)\n",
    "            if key== i:\n",
    "                count= count+value\n",
    "    return count        \n"
   ]
  },
  {
   "cell_type": "code",
   "execution_count": 76,
   "id": "f744ee48-525c-4e7f-8fff-9d83873e379e",
   "metadata": {},
   "outputs": [
    {
     "name": "stdout",
     "output_type": "stream",
     "text": [
      "1009\n"
     ]
    }
   ],
   "source": [
    "print(returnToInt('MIX'))"
   ]
  },
  {
   "cell_type": "code",
   "execution_count": null,
   "id": "300f9608-2a0e-49a8-80b3-3d5bd37fe75e",
   "metadata": {},
   "outputs": [],
   "source": []
  }
 ],
 "metadata": {
  "kernelspec": {
   "display_name": "Python 3 (ipykernel)",
   "language": "python",
   "name": "python3"
  },
  "language_info": {
   "codemirror_mode": {
    "name": "ipython",
    "version": 3
   },
   "file_extension": ".py",
   "mimetype": "text/x-python",
   "name": "python",
   "nbconvert_exporter": "python",
   "pygments_lexer": "ipython3",
   "version": "3.11.7"
  }
 },
 "nbformat": 4,
 "nbformat_minor": 5
}
